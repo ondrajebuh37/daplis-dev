{
 "cells": [
  {
   "cell_type": "markdown",
   "metadata": {},
   "source": [
    "# Example showing how to compute the offset calibration using the cross-talk effect in LinoSPAD2."
   ]
  },
  {
   "cell_type": "markdown",
   "metadata": {},
   "source": [
    "TODO WRITE TEXT\n",
    "Import functions and set absolute path to .dat files\n"
   ]
  },
  {
   "cell_type": "code",
   "execution_count": 1,
   "metadata": {},
   "outputs": [],
   "source": [
    "import matplotlib.pyplot as plt\n",
    "from daplis.functions import cross_talk, fits\n",
    "path = r\"C:\\Users\\Ondra\\Desktop\\dezertacka\\data\\offset_w_LED\""
   ]
  },
  {
   "cell_type": "markdown",
   "metadata": {},
   "source": [
    "Now, calculate timestamp differences for the pixels of interest. The result is saved in the 'cross_talk_data' folder at the same location where '.dat' data files are located."
   ]
  },
  {
   "cell_type": "code",
   "execution_count": null,
   "metadata": {},
   "outputs": [
    {
     "name": "stdout",
     "output_type": "stream",
     "text": [
      "\n",
      "> > > Collecting cross-talk data < < <\n",
      "\n",
      "Creating pixel pairs from 0 to 255\n"
     ]
    },
    {
     "name": "stderr",
     "output_type": "stream",
     "text": [
      "Collecting data: 100%|██████████| 15/15 [00:04<00:00,  3.23it/s]\n"
     ]
    },
    {
     "name": "stdout",
     "output_type": "stream",
     "text": [
      "Calculating timestamp differences between all pixels\n",
      "\n",
      "! ! ! Feather file with timestamps differences already exists and will be rewritten ! ! !\n",
      "\n",
      "\n",
      "! ! ! Deleting the file in 5 ! ! !\n",
      "\n",
      "\n",
      "! ! ! Deleting the file in 4 ! ! !\n",
      "\n",
      "\n",
      "! ! ! Deleting the file in 3 ! ! !\n",
      "\n",
      "\n",
      "! ! ! Deleting the file in 2 ! ! !\n",
      "\n",
      "\n",
      "! ! ! Deleting the file in 1 ! ! !\n",
      "\n"
     ]
    },
    {
     "name": "stderr",
     "output_type": "stream",
     "text": [
      "Collecting data: 100%|██████████| 15/15 [00:05<00:00,  2.64it/s]"
     ]
    },
    {
     "name": "stdout",
     "output_type": "stream",
     "text": [
      "\n",
      "> > > Timestamp differences are saved as0000072934-0000073033_pixels_130-131.feather in C:\\Users\\Ondra\\Desktop\\dezertacka\\data\\offset_w_LED\\cross_talk_data < < <\n"
     ]
    },
    {
     "name": "stderr",
     "output_type": "stream",
     "text": [
      "\n"
     ]
    }
   ],
   "source": [
    "#Dont forget to set every parameter correctly here based on your data!\n",
    "cross_talk.cross_talk_offset_collect(\n",
    "    path,\n",
    "    rewrite=True,\n",
    "    daughterboard_number=\"B7d\",\n",
    "    motherboard_number=\"#28\",\n",
    "    firmware_version=\"2212s\",\n",
    "    timestamps=100,\n",
    ")\n"
   ]
  },
  {
   "cell_type": "markdown",
   "metadata": {},
   "source": [
    "After collecting the timestamp differences, we can plot the CT peaks and offset them to zero and visualise them."
   ]
  },
  {
   "cell_type": "code",
   "execution_count": 36,
   "metadata": {},
   "outputs": [
    {
     "name": "stdout",
     "output_type": "stream",
     "text": [
      "Creating pixel pairs from 0 to 255\n"
     ]
    },
    {
     "ename": "ValueError",
     "evalue": "No valid data points found within the specified window.",
     "output_type": "error",
     "traceback": [
      "\u001b[31m---------------------------------------------------------------------------\u001b[39m",
      "\u001b[31mValueError\u001b[39m                                Traceback (most recent call last)",
      "\u001b[36mCell\u001b[39m\u001b[36m \u001b[39m\u001b[32mIn[36]\u001b[39m\u001b[32m, line 19\u001b[39m\n\u001b[32m     15\u001b[39m multiplier = \u001b[32m10\u001b[39m\n\u001b[32m     16\u001b[39m \u001b[38;5;28;01mfor\u001b[39;00m pixels \u001b[38;5;129;01min\u001b[39;00m pix_pairs:\n\u001b[32m     17\u001b[39m     \u001b[38;5;66;03m# if pixels == [130,131]:\u001b[39;00m\n\u001b[32m     18\u001b[39m     \u001b[38;5;66;03m#     break\u001b[39;00m\n\u001b[32m---> \u001b[39m\u001b[32m19\u001b[39m     mu, sigma = \u001b[43mcross_talk\u001b[49m\u001b[43m.\u001b[49m\u001b[43mcross_talk_offset_plot\u001b[49m\u001b[43m(\u001b[49m\n\u001b[32m     20\u001b[39m \u001b[43m    \u001b[49m\u001b[43mpath\u001b[49m\u001b[43m,\u001b[49m\n\u001b[32m     21\u001b[39m \u001b[43m    \u001b[49m\u001b[43mpixels\u001b[49m\u001b[43m,\u001b[49m\n\u001b[32m     22\u001b[39m \u001b[43m    \u001b[49m\u001b[43mshow_plot\u001b[49m\u001b[43m=\u001b[49m\u001b[38;5;28;43;01mFalse\u001b[39;49;00m\u001b[43m,\u001b[49m\u001b[43m \u001b[49m\u001b[43mmultiplier\u001b[49m\u001b[43m \u001b[49m\u001b[43m=\u001b[49m\u001b[43m \u001b[49m\u001b[43mmultiplier\u001b[49m\n\u001b[32m     23\u001b[39m \u001b[43m    \u001b[49m\u001b[43m)\u001b[49m\n\u001b[32m     24\u001b[39m     mus.append(mu)\n\u001b[32m     25\u001b[39m \u001b[38;5;66;03m# print([float(mu) for mu in mus])\u001b[39;00m\n",
      "\u001b[36mFile \u001b[39m\u001b[32m~\\Desktop\\dezertacka\\daplis-dev\\src\\daplis\\functions\\cross_talk.py:1253\u001b[39m, in \u001b[36mcross_talk_offset_plot\u001b[39m\u001b[34m(path, pixel_pair, multiplier, window, show_plot)\u001b[39m\n\u001b[32m   1250\u001b[39m data_cut = data_pix[(data_pix > -window / \u001b[32m2\u001b[39m) & (data_pix < window / \u001b[32m2\u001b[39m)]\n\u001b[32m   1252\u001b[39m \u001b[38;5;28;01mif\u001b[39;00m \u001b[38;5;28mlen\u001b[39m(data_cut) == \u001b[32m0\u001b[39m:\n\u001b[32m-> \u001b[39m\u001b[32m1253\u001b[39m     \u001b[38;5;28;01mraise\u001b[39;00m \u001b[38;5;167;01mValueError\u001b[39;00m(\u001b[33m\"\u001b[39m\u001b[33mNo valid data points found within the specified window.\u001b[39m\u001b[33m\"\u001b[39m)\n\u001b[32m   1255\u001b[39m counts, bin_edges = np.histogram(\n\u001b[32m   1256\u001b[39m     data_cut,\n\u001b[32m   1257\u001b[39m     bins=np.arange(np.min(data_cut), np.max(data_cut), multiplier * \u001b[32m2500\u001b[39m / \u001b[32m140\u001b[39m),\n\u001b[32m   1258\u001b[39m )\n\u001b[32m   1259\u001b[39m bin_centers = (bin_edges[:-\u001b[32m1\u001b[39m] + bin_edges[\u001b[32m1\u001b[39m:]) / \u001b[32m2\u001b[39m\n",
      "\u001b[31mValueError\u001b[39m: No valid data points found within the specified window."
     ]
    }
   ],
   "source": [
    "#TODO why after 130,131 error?\n",
    "correct_pix_address = False\n",
    "print(\"Creating pixel pairs from 0 to 255\")\n",
    "pix_pairs = [[i, i+1] for i in range(255)]\n",
    "if correct_pix_address:\n",
    "    for pi, pixels in enumerate(pix_pairs):\n",
    "        for i, pixel in enumerate(pixels):\n",
    "            if pixel > 127:\n",
    "                pixels[i] = 255 - pixel\n",
    "            else:\n",
    "                pixels[i] = pixel + 128\n",
    "        pix_pairs[pi] = pixels\n",
    "# Collecting sensor population\n",
    "mus = []\n",
    "multiplier = 10\n",
    "for pixels in pix_pairs:\n",
    "    # if pixels == [130,131]:\n",
    "    #     break\n",
    "    mu, sigma = cross_talk.cross_talk_offset_plot(\n",
    "    path,\n",
    "    pixels,\n",
    "    show_plot=False, multiplier = multiplier\n",
    "    )\n",
    "    mus.append(mu)\n",
    "# print([float(mu) for mu in mus])\n",
    "for pixels in pix_pairs:\n",
    "    # if pixels == [130,131]:\n",
    "    #     break\n",
    "    cross_talk.plot_overlayed_data(path, pixels,show_plot=False, multiplier = multiplier)\n",
    "plt.show()\n",
    "for idx, pixels in enumerate(pix_pairs):\n",
    "    # if pixels == [130,131]:\n",
    "    #     break\n",
    "    cross_talk.plot_normalized_data(path, pixels, mus[idx], multiplier = multiplier)\n",
    "plt.show()\n",
    "\n"
   ]
  },
  {
   "cell_type": "markdown",
   "metadata": {},
   "source": [
    "# Solving the Offset Equations using a Linear Matrix Equation\n",
    "\n",
    "## Formulation of the System\n",
    "\n",
    "We have the system of equations:\n",
    "\n",
    "```math\n",
    "(t_i + d_i) - (t_4 + d_4) = d_i - d_4 = \text{off}_{i4}, \\quad i \\in [1,3].\n",
    "```\n",
    "\n",
    "```math\n",
    "(t_0 + d_0) - (t_j + d_j) = d_0 - d_j = \text{off}_{0j}, \\quad j \\in [4,255].\n",
    "```\n",
    "\n",
    "```math\n",
    "\\sum_{k=1}^{255} \text{off}_{0k} = 0.\n",
    "```\n",
    "\n",
    "Rewriting this in matrix form:\n",
    "\n",
    "```math\n",
    "Ax = b\n",
    "```\n",
    "\n",
    "where:\n",
    "- \\( A \\) is a bidiagonal matrix,\n",
    "- \\( x \\) represents the unknown offset values,\n",
    "- \\( b \\) is the vector of given offsets.\n",
    "\n",
    "## Bidiagonal Matrix Structure\n",
    "\n",
    "The system can be represented in matrix form as:\n",
    "\\[\n",
    "\\begin{bmatrix}\n",
    "1 & -1 & 0 & 0 & \\cdots & 0 \\\\\n",
    "0 & 1 & -1 & 0 & \\cdots & 0 \\\\\n",
    "0 & 0 & 1 & -1 & \\cdots & 0 \\\\\n",
    "\\vdots & \\vdots & \\vdots & \\vdots & \\ddots & \\vdots \\\\\n",
    "0 & 0 & 0 & 0 & \\cdots & -1\n",
    "\\end{bmatrix}\n",
    "\\begin{bmatrix}\n",
    "d_1 \\\\\n",
    "d_2 \\\\\n",
    "d_3 \\\\\n",
    "\\vdots \\\\\n",
    "d_{255}\n",
    "\\end{bmatrix}\n",
    "=\n",
    "\\begin{bmatrix}\n",
    "\\text{off}_{14} \\\\\n",
    "\\text{off}_{24} \\\\\n",
    "\\text{off}_{34} \\\\\n",
    "\\vdots \\\\\n",
    "\\text{off}_{0255}\n",
    "\\end{bmatrix}\n",
    "\\]\n",
    "\n",
    "```\n",
    "\n",
    "## Solving the System in Python\n",
    "\n",
    "Since \\( A \\) is a bidiagonal matrix, we can solve it efficiently using forward and backward substitution. Below is a Python implementation:\n"
   ]
  },
  {
   "cell_type": "code",
   "execution_count": null,
   "metadata": {},
   "outputs": [
    {
     "name": "stdout",
     "output_type": "stream",
     "text": [
      "(131, 131) 131\n",
      "[-4.42647120e+02  3.84555791e+03 -3.93375424e+03  6.10913409e+02\n",
      " -2.98632540e+03 -3.81462502e+03  1.26231185e+03 -1.50853634e+03\n",
      " -3.39532006e+03  8.74153165e+02 -5.26032642e+03 -3.01712921e+03\n",
      "  1.23067168e+03 -2.16271675e+03 -5.19405512e+03 -2.27392969e+03\n",
      " -5.00003850e+03 -3.17456517e+03  1.65441122e+03 -3.07279218e+03\n",
      "  3.08439133e+03 -1.00886420e+03  3.56914051e+03 -6.76479057e+03\n",
      " -2.13854492e+03 -6.86163970e+03  1.71421718e+03 -1.40192939e+03\n",
      " -3.82681054e+02  1.44939991e+03  2.82534641e+03  1.57611674e+03\n",
      "  1.37180691e+03  1.89138836e+03  5.43433436e+02 -1.11698872e+03\n",
      " -1.39320259e+00 -2.76664859e+03  7.83578053e+02  9.10798427e+02\n",
      "  3.00043711e+03 -2.39038033e+03  6.84146988e+02 -8.16783945e+01\n",
      "  1.81224518e+03  3.86937049e+02 -1.09086211e+02 -9.12328778e+02\n",
      "  2.11826974e+03 -8.02205530e+01 -9.98909388e+02  2.19942781e+03\n",
      " -4.09186883e+03  5.60817008e+02  8.47920189e+02  3.50326429e+03\n",
      " -4.85489519e+03 -3.07140095e+03  2.30457438e+03  1.42800366e+03\n",
      "  2.47159896e+03  1.40992478e+03  1.11096954e+02  2.26086157e+03\n",
      " -3.35489402e+03  4.13825731e+03 -3.79859244e+03 -5.77834709e+02\n",
      " -1.00608456e+03 -1.58500434e+03  2.09821988e+03 -1.41712909e+03\n",
      "  1.37741418e+03  3.11141610e+03 -5.23345808e+02 -4.57000141e+03\n",
      " -1.92127700e+03 -5.05257806e+02 -1.07666768e+03  1.33102890e+02\n",
      "  1.39868506e+03  5.05578810e+02  1.56059574e+03  8.07765582e+02\n",
      "  2.85290658e+03 -3.97213791e+03 -2.50730912e+03 -4.86552916e+03\n",
      " -3.17554699e+02  1.40282428e+03  1.78558582e+03  1.77041738e+03\n",
      "  2.01690706e+03 -2.72113584e+03  2.94271130e+03  2.48402583e+03\n",
      "  9.87016162e+02 -1.32082024e+02  8.26692265e+02  2.56793628e+03\n",
      "  3.49129672e+03 -2.03089930e+03  4.13153663e+03  1.22778444e+03\n",
      "  2.69734331e+03 -2.15470451e+02  1.80853534e+03  5.40250490e+01\n",
      "  4.68915832e+03  1.34468894e+03  3.88418203e+03  4.92152326e+02\n",
      "  2.84279998e+03  7.54979176e+01  2.78446963e+03  3.19156068e+03\n",
      " -7.68092301e+02  3.83863113e+03 -1.99271530e+03  3.63830639e+02\n",
      " -3.45248029e+02  2.50443672e+03 -7.74613643e+02 -1.00304531e+03\n",
      " -1.93077548e+03  1.89736566e+03 -5.23357781e+02 -1.84563432e+03\n",
      "  6.00882518e+01  6.44303622e+02 -5.36208319e+02]\n"
     ]
    }
   ],
   "source": [
    "import numpy as np\n",
    "import copy\n",
    "offsets = copy.copy(mus)\n",
    "\n",
    "#append 0 to mus which will be for the sum = 0\n",
    "offsets.append(0)\n",
    "A0 = np.eye(len(offsets))\n",
    "A1 = -1*np.eye(len(offsets),k=1)\n",
    "A = A0 + A1\n",
    "A[-1,:] = 1\n",
    "print(A.shape, len(offsets))\n",
    "\n",
    "#TODO add condition on d_i > 0?\n",
    "d = np.linalg.solve(A,offsets)\n",
    "print(d)"
   ]
  },
  {
   "cell_type": "code",
   "execution_count": null,
   "metadata": {},
   "outputs": [],
   "source": []
  },
  {
   "cell_type": "code",
   "execution_count": null,
   "metadata": {},
   "outputs": [],
   "source": []
  }
 ],
 "metadata": {
  "kernelspec": {
   "display_name": "qstenv",
   "language": "python",
   "name": "python3"
  },
  "language_info": {
   "codemirror_mode": {
    "name": "ipython",
    "version": 3
   },
   "file_extension": ".py",
   "mimetype": "text/x-python",
   "name": "python",
   "nbconvert_exporter": "python",
   "pygments_lexer": "ipython3",
   "version": "3.12.2"
  }
 },
 "nbformat": 4,
 "nbformat_minor": 2
}
